{
 "cells": [
  {
   "cell_type": "code",
   "execution_count": 6,
   "id": "b75f7e83",
   "metadata": {},
   "outputs": [
    {
     "name": "stdout",
     "output_type": "stream",
     "text": [
      "qr code successfuly created\n"
     ]
    }
   ],
   "source": [
    "import pyqrcode\n",
    "import png\n",
    "web=\"http://digitalwaveitsolution.com\"\n",
    "\n",
    "url=pyqrcode.create(web)\n",
    "url.png(\"ktit.png\",scale=8)\n",
    "print(\"qr code successfuly created\")"
   ]
  },
  {
   "cell_type": "code",
   "execution_count": 7,
   "id": "1b7f70da",
   "metadata": {},
   "outputs": [
    {
     "name": "stdout",
     "output_type": "stream",
     "text": [
      "successs\n"
     ]
    }
   ],
   "source": [
    "import pyqrcode\n",
    "import png\n",
    "pic=\"https://www.youtube.com/@spbhai00\"\n",
    "url=pyqrcode.create(pic)\n",
    "url.png(\"satish.png\",scale=5)\n",
    "print(\"successs\")"
   ]
  },
  {
   "cell_type": "code",
   "execution_count": null,
   "id": "8bab0c49",
   "metadata": {},
   "outputs": [],
   "source": []
  }
 ],
 "metadata": {
  "kernelspec": {
   "display_name": "Python 3 (ipykernel)",
   "language": "python",
   "name": "python3"
  },
  "language_info": {
   "codemirror_mode": {
    "name": "ipython",
    "version": 3
   },
   "file_extension": ".py",
   "mimetype": "text/x-python",
   "name": "python",
   "nbconvert_exporter": "python",
   "pygments_lexer": "ipython3",
   "version": "3.11.4"
  }
 },
 "nbformat": 4,
 "nbformat_minor": 5
}
